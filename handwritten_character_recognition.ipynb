{
  "metadata": {
    "kernelspec": {
      "language": "python",
      "display_name": "Python 3",
      "name": "python3"
    },
    "language_info": {
      "name": "python",
      "version": "3.7.9",
      "mimetype": "text/x-python",
      "codemirror_mode": {
        "name": "ipython",
        "version": 3
      },
      "pygments_lexer": "ipython3",
      "nbconvert_exporter": "python",
      "file_extension": ".py"
    },
    "kaggle": {
      "accelerator": "gpu",
      "dataSources": [
        {
          "sourceId": 1400106,
          "sourceType": "datasetVersion",
          "datasetId": 818027
        }
      ],
      "dockerImageVersionId": 30068,
      "isInternetEnabled": true,
      "language": "python",
      "sourceType": "notebook",
      "isGpuEnabled": true
    },
    "colab": {
      "provenance": [],
      "include_colab_link": true
    }
  },
  "nbformat_minor": 0,
  "nbformat": 4,
  "cells": [
    {
      "cell_type": "markdown",
      "metadata": {
        "id": "view-in-github",
        "colab_type": "text"
      },
      "source": [
        "<a href=\"https://colab.research.google.com/github/Maisha1714/CodeAlpha_handwritten_character_recognition/blob/main/handwritten_character_recognition.ipynb\" target=\"_parent\"><img src=\"https://colab.research.google.com/assets/colab-badge.svg\" alt=\"Open In Colab\"/></a>"
      ]
    },
    {
      "cell_type": "code",
      "source": [
        "import pandas as pd\n",
        "import numpy as np\n",
        "import keras\n",
        "import keras.layers as L\n",
        "import keras.models as M\n",
        "import tensorflow as tf\n",
        "from PIL import Image\n",
        "import os\n",
        "import matplotlib.pyplot as plt\n",
        "import cv2\n",
        "from keras.utils import Sequence"
      ],
      "metadata": {
        "_uuid": "8f2839f25d086af736a60e9eeb907d3b93b6e0e5",
        "_cell_guid": "b1076dfc-b9ad-4769-8c92-a6c4dae69d19",
        "execution": {
          "iopub.status.busy": "2023-12-26T11:12:27.139670Z",
          "iopub.execute_input": "2023-12-26T11:12:27.140108Z",
          "iopub.status.idle": "2023-12-26T11:12:32.460078Z",
          "shell.execute_reply.started": "2023-12-26T11:12:27.140020Z",
          "shell.execute_reply": "2023-12-26T11:12:32.459363Z"
        },
        "trusted": true,
        "id": "iapPB2bpES_o"
      },
      "execution_count": null,
      "outputs": []
    },
    {
      "cell_type": "code",
      "source": [
        "train=pd.read_csv('/content/train (2).csv')\n",
        "validation=pd.read_csv('/content/validation (1).csv')"
      ],
      "metadata": {
        "execution": {
          "iopub.status.busy": "2023-12-26T11:12:32.461972Z",
          "iopub.execute_input": "2023-12-26T11:12:32.462276Z",
          "iopub.status.idle": "2023-12-26T11:12:33.136496Z",
          "shell.execute_reply.started": "2023-12-26T11:12:32.462247Z",
          "shell.execute_reply": "2023-12-26T11:12:33.135680Z"
        },
        "trusted": true,
        "id": "Wy_yGuJoES_q"
      },
      "execution_count": null,
      "outputs": []
    },
    {
      "cell_type": "code",
      "source": [
        "train.dropna(inplace=True)"
      ],
      "metadata": {
        "execution": {
          "iopub.status.busy": "2023-12-26T11:12:33.137806Z",
          "iopub.execute_input": "2023-12-26T11:12:33.138195Z",
          "iopub.status.idle": "2023-12-26T11:12:33.246199Z",
          "shell.execute_reply.started": "2023-12-26T11:12:33.138152Z",
          "shell.execute_reply": "2023-12-26T11:12:33.245458Z"
        },
        "trusted": true,
        "id": "v3cTmHWKES_r"
      },
      "execution_count": null,
      "outputs": []
    },
    {
      "cell_type": "code",
      "source": [
        "train.head()"
      ],
      "metadata": {
        "execution": {
          "iopub.status.busy": "2023-12-26T11:12:33.247568Z",
          "iopub.execute_input": "2023-12-26T11:12:33.247931Z",
          "iopub.status.idle": "2023-12-26T11:12:33.268167Z",
          "shell.execute_reply.started": "2023-12-26T11:12:33.247894Z",
          "shell.execute_reply": "2023-12-26T11:12:33.266840Z"
        },
        "trusted": true,
        "id": "P71yqBDXES_r",
        "outputId": "e37accc1-ac51-4af5-ed53-a9cc61f4bf3c"
      },
      "execution_count": null,
      "outputs": [
        {
          "execution_count": 4,
          "output_type": "execute_result",
          "data": {
            "text/plain": "          FILENAME   IDENTITY\n0  TRAIN_00001.jpg  BALTHAZAR\n1  TRAIN_00002.jpg      SIMON\n2  TRAIN_00003.jpg      BENES\n3  TRAIN_00004.jpg    LA LOVE\n4  TRAIN_00005.jpg     DAPHNE",
            "text/html": "<div>\n<style scoped>\n    .dataframe tbody tr th:only-of-type {\n        vertical-align: middle;\n    }\n\n    .dataframe tbody tr th {\n        vertical-align: top;\n    }\n\n    .dataframe thead th {\n        text-align: right;\n    }\n</style>\n<table border=\"1\" class=\"dataframe\">\n  <thead>\n    <tr style=\"text-align: right;\">\n      <th></th>\n      <th>FILENAME</th>\n      <th>IDENTITY</th>\n    </tr>\n  </thead>\n  <tbody>\n    <tr>\n      <th>0</th>\n      <td>TRAIN_00001.jpg</td>\n      <td>BALTHAZAR</td>\n    </tr>\n    <tr>\n      <th>1</th>\n      <td>TRAIN_00002.jpg</td>\n      <td>SIMON</td>\n    </tr>\n    <tr>\n      <th>2</th>\n      <td>TRAIN_00003.jpg</td>\n      <td>BENES</td>\n    </tr>\n    <tr>\n      <th>3</th>\n      <td>TRAIN_00004.jpg</td>\n      <td>LA LOVE</td>\n    </tr>\n    <tr>\n      <th>4</th>\n      <td>TRAIN_00005.jpg</td>\n      <td>DAPHNE</td>\n    </tr>\n  </tbody>\n</table>\n</div>"
          },
          "metadata": {}
        }
      ]
    },
    {
      "cell_type": "markdown",
      "source": [
        "## Data Pre-Processing"
      ],
      "metadata": {
        "id": "OmyCEMrmEmEI"
      }
    },
    {
      "cell_type": "code",
      "source": [
        "train[train['IDENTITY']=='zucchi']"
      ],
      "metadata": {
        "execution": {
          "iopub.status.busy": "2023-12-26T11:12:33.272108Z",
          "iopub.execute_input": "2023-12-26T11:12:33.272505Z",
          "iopub.status.idle": "2023-12-26T11:12:33.340623Z",
          "shell.execute_reply.started": "2023-12-26T11:12:33.272460Z",
          "shell.execute_reply": "2023-12-26T11:12:33.339550Z"
        },
        "trusted": true,
        "id": "UF7TV4vmES_s",
        "outputId": "12c47beb-dffa-4366-9f87-d90fc7229cb2"
      },
      "execution_count": null,
      "outputs": [
        {
          "execution_count": 5,
          "output_type": "execute_result",
          "data": {
            "text/plain": "              FILENAME IDENTITY\n20507  TRAIN_20508.jpg   zucchi",
            "text/html": "<div>\n<style scoped>\n    .dataframe tbody tr th:only-of-type {\n        vertical-align: middle;\n    }\n\n    .dataframe tbody tr th {\n        vertical-align: top;\n    }\n\n    .dataframe thead th {\n        text-align: right;\n    }\n</style>\n<table border=\"1\" class=\"dataframe\">\n  <thead>\n    <tr style=\"text-align: right;\">\n      <th></th>\n      <th>FILENAME</th>\n      <th>IDENTITY</th>\n    </tr>\n  </thead>\n  <tbody>\n    <tr>\n      <th>20507</th>\n      <td>TRAIN_20508.jpg</td>\n      <td>zucchi</td>\n    </tr>\n  </tbody>\n</table>\n</div>"
          },
          "metadata": {}
        }
      ]
    },
    {
      "cell_type": "code",
      "source": [
        "train['Length']=train['IDENTITY'].apply(lambda x : len(str(x)))\n",
        "train=train[train['Length']<=21]\n",
        "train['IDENTITY']=train['IDENTITY'].str.upper()\n",
        "train[train['Length']==max(train['Length'])]"
      ],
      "metadata": {
        "execution": {
          "iopub.status.busy": "2023-12-26T11:12:33.343170Z",
          "iopub.execute_input": "2023-12-26T11:12:33.343544Z",
          "iopub.status.idle": "2023-12-26T11:12:33.893323Z",
          "shell.execute_reply.started": "2023-12-26T11:12:33.343506Z",
          "shell.execute_reply": "2023-12-26T11:12:33.892407Z"
        },
        "trusted": true,
        "id": "rXRN-HpXES_t",
        "outputId": "ee2e3c46-c07d-4479-b660-20d9805e57a3"
      },
      "execution_count": null,
      "outputs": [
        {
          "execution_count": 6,
          "output_type": "execute_result",
          "data": {
            "text/plain": "                FILENAME               IDENTITY  Length\n10278    TRAIN_10279.jpg  DOSSANTOS LASCONCELOS      21\n108567  TRAIN_108568.jpg  O ZUARRDI EREBEVITRAC      21\n156500  TRAIN_156501.jpg  ANDRIANNARISOA--DEGHI      21\n160575  TRAIN_160576.jpg  LOUISIANE - EVANGELIN      21\n174121  TRAIN_174122.jpg  GU ILLOSSOO - OARRIBA      21\n212583  TRAIN_212584.jpg  DE MALEZIEUX DU HAMEL      21\n220135  TRAIN_220136.jpg  COSTREL DE CORAINVILL      21\n229529  TRAIN_229530.jpg  ROUSSEAV -- CHAUDIERE      21\n230011  TRAIN_230012.jpg  BEKNARD DE LAVERNETTE      21\n308769  TRAIN_308770.jpg  DATE NAISSANCE CLASSE      21\n325215  TRAIN_325216.jpg  BEHARY - LAUL - SIRDE      21",
            "text/html": "<div>\n<style scoped>\n    .dataframe tbody tr th:only-of-type {\n        vertical-align: middle;\n    }\n\n    .dataframe tbody tr th {\n        vertical-align: top;\n    }\n\n    .dataframe thead th {\n        text-align: right;\n    }\n</style>\n<table border=\"1\" class=\"dataframe\">\n  <thead>\n    <tr style=\"text-align: right;\">\n      <th></th>\n      <th>FILENAME</th>\n      <th>IDENTITY</th>\n      <th>Length</th>\n    </tr>\n  </thead>\n  <tbody>\n    <tr>\n      <th>10278</th>\n      <td>TRAIN_10279.jpg</td>\n      <td>DOSSANTOS LASCONCELOS</td>\n      <td>21</td>\n    </tr>\n    <tr>\n      <th>108567</th>\n      <td>TRAIN_108568.jpg</td>\n      <td>O ZUARRDI EREBEVITRAC</td>\n      <td>21</td>\n    </tr>\n    <tr>\n      <th>156500</th>\n      <td>TRAIN_156501.jpg</td>\n      <td>ANDRIANNARISOA--DEGHI</td>\n      <td>21</td>\n    </tr>\n    <tr>\n      <th>160575</th>\n      <td>TRAIN_160576.jpg</td>\n      <td>LOUISIANE - EVANGELIN</td>\n      <td>21</td>\n    </tr>\n    <tr>\n      <th>174121</th>\n      <td>TRAIN_174122.jpg</td>\n      <td>GU ILLOSSOO - OARRIBA</td>\n      <td>21</td>\n    </tr>\n    <tr>\n      <th>212583</th>\n      <td>TRAIN_212584.jpg</td>\n      <td>DE MALEZIEUX DU HAMEL</td>\n      <td>21</td>\n    </tr>\n    <tr>\n      <th>220135</th>\n      <td>TRAIN_220136.jpg</td>\n      <td>COSTREL DE CORAINVILL</td>\n      <td>21</td>\n    </tr>\n    <tr>\n      <th>229529</th>\n      <td>TRAIN_229530.jpg</td>\n      <td>ROUSSEAV -- CHAUDIERE</td>\n      <td>21</td>\n    </tr>\n    <tr>\n      <th>230011</th>\n      <td>TRAIN_230012.jpg</td>\n      <td>BEKNARD DE LAVERNETTE</td>\n      <td>21</td>\n    </tr>\n    <tr>\n      <th>308769</th>\n      <td>TRAIN_308770.jpg</td>\n      <td>DATE NAISSANCE CLASSE</td>\n      <td>21</td>\n    </tr>\n    <tr>\n      <th>325215</th>\n      <td>TRAIN_325216.jpg</td>\n      <td>BEHARY - LAUL - SIRDE</td>\n      <td>21</td>\n    </tr>\n  </tbody>\n</table>\n</div>"
          },
          "metadata": {}
        }
      ]
    },
    {
      "cell_type": "code",
      "source": [
        "train=train.sample(frac=0.8,random_state=42)\n",
        "validation=validation.sample(frac=0.1)"
      ],
      "metadata": {
        "execution": {
          "iopub.status.busy": "2023-12-26T11:12:33.894411Z",
          "iopub.execute_input": "2023-12-26T11:12:33.894667Z",
          "iopub.status.idle": "2023-12-26T11:12:33.957247Z",
          "shell.execute_reply.started": "2023-12-26T11:12:33.894642Z",
          "shell.execute_reply": "2023-12-26T11:12:33.956461Z"
        },
        "trusted": true,
        "id": "6S24vSpUES_t"
      },
      "execution_count": null,
      "outputs": []
    },
    {
      "cell_type": "code",
      "source": [
        "characters=set()\n",
        "train['IDENTITY']=train['IDENTITY'].apply(lambda x: str(x))\n",
        "for i in train['IDENTITY'].values:\n",
        "    for j in i :\n",
        "        if j not in characters :\n",
        "            characters.add(j)\n",
        "characters=sorted(characters)"
      ],
      "metadata": {
        "execution": {
          "iopub.status.busy": "2023-12-26T11:12:33.958551Z",
          "iopub.execute_input": "2023-12-26T11:12:33.958813Z",
          "iopub.status.idle": "2023-12-26T11:12:34.409856Z",
          "shell.execute_reply.started": "2023-12-26T11:12:33.958788Z",
          "shell.execute_reply": "2023-12-26T11:12:34.409128Z"
        },
        "trusted": true,
        "id": "Bs5norNJES_t"
      },
      "execution_count": null,
      "outputs": []
    },
    {
      "cell_type": "code",
      "source": [
        "char_to_label = {char:label for label,char in enumerate(characters)}\n",
        "label_to_char = {label:char for label,char in enumerate(characters)}"
      ],
      "metadata": {
        "execution": {
          "iopub.status.busy": "2023-12-26T11:12:34.410976Z",
          "iopub.execute_input": "2023-12-26T11:12:34.411244Z",
          "iopub.status.idle": "2023-12-26T11:12:34.415473Z",
          "shell.execute_reply.started": "2023-12-26T11:12:34.411217Z",
          "shell.execute_reply": "2023-12-26T11:12:34.414683Z"
        },
        "trusted": true,
        "id": "J4aP3yauES_t"
      },
      "execution_count": null,
      "outputs": []
    },
    {
      "cell_type": "code",
      "source": [
        "path_train='/content/train (2)/train'\n",
        "path_validation='/content/validation (1)/validation'"
      ],
      "metadata": {
        "execution": {
          "iopub.status.busy": "2023-12-26T11:12:34.416912Z",
          "iopub.execute_input": "2023-12-26T11:12:34.417298Z",
          "iopub.status.idle": "2023-12-26T11:12:34.424714Z",
          "shell.execute_reply.started": "2023-12-26T11:12:34.417261Z",
          "shell.execute_reply": "2023-12-26T11:12:34.424019Z"
        },
        "trusted": true,
        "id": "SVGB4Ek-ES_u"
      },
      "execution_count": null,
      "outputs": []
    },
    {
      "cell_type": "code",
      "source": [
        "class DataGenerator(Sequence):\n",
        "    def __init__(self,dataframe,path,char_map,batch_size=128,img_size=(256,64),\n",
        "                 downsample_factor=4,max_length=22,shuffle=True):\n",
        "        self.dataframe=dataframe\n",
        "        self.path=path\n",
        "        self.char_map=char_map\n",
        "        self.batch_size=batch_size\n",
        "        self.width=img_size[0]\n",
        "        self.height=img_size[1]\n",
        "        self.downsample_factor=downsample_factor\n",
        "        self.max_length=max_length\n",
        "        self.shuffle=shuffle\n",
        "        self.indices = np.arange(len(dataframe))\n",
        "        self.on_epoch_end()\n",
        "\n",
        "    def __len__(self):\n",
        "        return len(self.dataframe)//self.batch_size\n",
        "\n",
        "    def __getitem__(self,idx):\n",
        "        curr_batch_idx=self.indices[idx*self.batch_size:(idx+1)*self.batch_size]\n",
        "        batch_images=np.ones((self.batch_size,self.width,self.height,1),dtype=np.float32)\n",
        "        batch_labels=np.ones((self.batch_size,self.max_length),dtype=np.float32)\n",
        "        input_length=np.ones((self.batch_size,1),dtype=np.float32)*(self.width//self.downsample_factor-2)\n",
        "        label_length=np.zeros((self.batch_size,1),dtype=np.int64)\n",
        "        for i,idx in enumerate(curr_batch_idx):\n",
        "            img_path=self.dataframe['FILENAME'].values[idx]\n",
        "            img=cv2.imread(self.path+'/'+img_path)\n",
        "            img=cv2.cvtColor(img, cv2.COLOR_BGR2GRAY)\n",
        "            img=cv2.resize(img,(self.width,self.height))\n",
        "            img=(img/255).astype(np.float32)\n",
        "            img=img.T\n",
        "            img=np.expand_dims(img,axis=-1)\n",
        "            text=self.dataframe['IDENTITY'].values[idx]\n",
        "            text=str(text)\n",
        "            label=[]\n",
        "            for j in text:\n",
        "                if j in self.char_map :\n",
        "                    label.append(self.char_map[j])\n",
        "                else:\n",
        "                    label.append(100)\n",
        "            label.extend([100]*(22-len(label)))\n",
        "            batch_images[i]=img\n",
        "            batch_labels[i]=label\n",
        "            label_length[i]=len(label)\n",
        "        batch_inputs= {\n",
        "                'input_data':batch_images,\n",
        "                'input_label':batch_labels,\n",
        "                'input_length':input_length,\n",
        "                'label_length':label_length\n",
        "\n",
        "            }\n",
        "        return batch_inputs,np.zeros((self.batch_size),dtype=np.float32)\n",
        "    def on_epoch_end(self):\n",
        "        if self.shuffle == True :\n",
        "            np.random.shuffle(self.indices)\n"
      ],
      "metadata": {
        "execution": {
          "iopub.status.busy": "2023-12-26T11:12:34.426041Z",
          "iopub.execute_input": "2023-12-26T11:12:34.426300Z",
          "iopub.status.idle": "2023-12-26T11:12:34.444195Z",
          "shell.execute_reply.started": "2023-12-26T11:12:34.426275Z",
          "shell.execute_reply": "2023-12-26T11:12:34.443211Z"
        },
        "trusted": true,
        "id": "Sv7E3EVrES_u"
      },
      "execution_count": null,
      "outputs": []
    },
    {
      "cell_type": "code",
      "source": [
        "train_generator=DataGenerator(train,path_train,char_to_label)\n",
        "validation_generator=DataGenerator(validation,path_validation,char_to_label)"
      ],
      "metadata": {
        "execution": {
          "iopub.status.busy": "2023-12-26T11:12:34.445366Z",
          "iopub.execute_input": "2023-12-26T11:12:34.445644Z",
          "iopub.status.idle": "2023-12-26T11:12:34.462734Z",
          "shell.execute_reply.started": "2023-12-26T11:12:34.445617Z",
          "shell.execute_reply": "2023-12-26T11:12:34.461990Z"
        },
        "trusted": true,
        "id": "1lCvzbvCES_u"
      },
      "execution_count": null,
      "outputs": []
    },
    {
      "cell_type": "code",
      "source": [
        "class CTCLayer(L.Layer):\n",
        "    def __init__(self, name=None):\n",
        "        super().__init__(name=name)\n",
        "        self.loss_fn = keras.backend.ctc_batch_cost\n",
        "\n",
        "    def call(self, y_true, y_pred, input_length, label_length):\n",
        "\n",
        "        loss = self.loss_fn(y_true, y_pred, input_length, label_length)\n",
        "        self.add_loss(loss)\n",
        "        return loss"
      ],
      "metadata": {
        "execution": {
          "iopub.status.busy": "2023-12-26T11:12:34.464162Z",
          "iopub.execute_input": "2023-12-26T11:12:34.464522Z",
          "iopub.status.idle": "2023-12-26T11:12:34.471444Z",
          "shell.execute_reply.started": "2023-12-26T11:12:34.464470Z",
          "shell.execute_reply": "2023-12-26T11:12:34.470480Z"
        },
        "trusted": true,
        "id": "AVUH0MkwES_v"
      },
      "execution_count": null,
      "outputs": []
    },
    {
      "cell_type": "code",
      "source": [
        "def make_model():\n",
        "    inp=L.Input(shape=(256,64,1),dtype=np.float32,name='input_data')\n",
        "    labels=L.Input(shape=[22],dtype=np.float32,name='input_label')\n",
        "    input_length=L.Input(shape=[1],dtype=np.int64,name='input_length')\n",
        "    label_length=L.Input(shape=[1],dtype=np.int64,name='label_length')\n",
        "    x=L.Conv2D(64,(3,3),activation='relu',padding='same',kernel_initializer='he_normal')(inp)\n",
        "    x=L.MaxPooling2D(pool_size=(2,2))(x)\n",
        "    x=L.Dropout(0.3)(x)\n",
        "    x=L.Conv2D(128,(3,3),activation='relu',padding='same',kernel_initializer='he_normal')(x)\n",
        "    x=L.MaxPooling2D(pool_size=(2,2))(x)\n",
        "    x=L.Dropout(0.3)(x)\n",
        "    new_shape=((256//4),(64//4)*128)\n",
        "    x=L.Reshape(new_shape)(x)\n",
        "    x=L.Dense(64,activation='relu')(x)\n",
        "    x=L.Dropout(0.2)(x)\n",
        "    x=L.Bidirectional(L.LSTM(128,return_sequences=True,dropout=0.2))(x)\n",
        "    x=L.Bidirectional(L.LSTM(64,return_sequences=True,dropout=0.25))(x)\n",
        "    x=L.Dense(len(characters)+1,activation='softmax',kernel_initializer='he_normal',name='Dense_output')(x)\n",
        "    output=CTCLayer(name='outputs')(labels,x,input_length,label_length)\n",
        "    model=M.Model([inp,labels,input_length,label_length],output)\n",
        "    # Optimizer\n",
        "    sgd = keras.optimizers.SGD(learning_rate=0.002,\n",
        "                               decay=1e-6,\n",
        "                               momentum=0.9,\n",
        "                               nesterov=True,\n",
        "                               clipnorm=5)\n",
        "    model.compile(optimizer=sgd)\n",
        "    return model"
      ],
      "metadata": {
        "execution": {
          "iopub.status.busy": "2023-12-26T11:12:34.472733Z",
          "iopub.execute_input": "2023-12-26T11:12:34.473106Z",
          "iopub.status.idle": "2023-12-26T11:12:34.487149Z",
          "shell.execute_reply.started": "2023-12-26T11:12:34.473061Z",
          "shell.execute_reply": "2023-12-26T11:12:34.486192Z"
        },
        "trusted": true,
        "id": "Td48K98HES_v"
      },
      "execution_count": null,
      "outputs": []
    },
    {
      "cell_type": "code",
      "source": [
        "model=make_model()\n",
        "model.summary()"
      ],
      "metadata": {
        "execution": {
          "iopub.status.busy": "2023-12-26T11:12:34.488339Z",
          "iopub.execute_input": "2023-12-26T11:12:34.488656Z",
          "iopub.status.idle": "2023-12-26T11:12:38.059755Z",
          "shell.execute_reply.started": "2023-12-26T11:12:34.488627Z",
          "shell.execute_reply": "2023-12-26T11:12:38.058848Z"
        },
        "trusted": true,
        "id": "dw0cowD2ES_v",
        "outputId": "57864ba3-a882-47b6-9b86-1b748b20cdad"
      },
      "execution_count": null,
      "outputs": [
        {
          "name": "stdout",
          "text": "Model: \"model\"\n__________________________________________________________________________________________________\nLayer (type)                    Output Shape         Param #     Connected to                     \n==================================================================================================\ninput_data (InputLayer)         [(None, 256, 64, 1)] 0                                            \n__________________________________________________________________________________________________\nconv2d (Conv2D)                 (None, 256, 64, 64)  640         input_data[0][0]                 \n__________________________________________________________________________________________________\nmax_pooling2d (MaxPooling2D)    (None, 128, 32, 64)  0           conv2d[0][0]                     \n__________________________________________________________________________________________________\ndropout (Dropout)               (None, 128, 32, 64)  0           max_pooling2d[0][0]              \n__________________________________________________________________________________________________\nconv2d_1 (Conv2D)               (None, 128, 32, 128) 73856       dropout[0][0]                    \n__________________________________________________________________________________________________\nmax_pooling2d_1 (MaxPooling2D)  (None, 64, 16, 128)  0           conv2d_1[0][0]                   \n__________________________________________________________________________________________________\ndropout_1 (Dropout)             (None, 64, 16, 128)  0           max_pooling2d_1[0][0]            \n__________________________________________________________________________________________________\nreshape (Reshape)               (None, 64, 2048)     0           dropout_1[0][0]                  \n__________________________________________________________________________________________________\ndense (Dense)                   (None, 64, 64)       131136      reshape[0][0]                    \n__________________________________________________________________________________________________\ndropout_2 (Dropout)             (None, 64, 64)       0           dense[0][0]                      \n__________________________________________________________________________________________________\nbidirectional (Bidirectional)   (None, 64, 256)      197632      dropout_2[0][0]                  \n__________________________________________________________________________________________________\nbidirectional_1 (Bidirectional) (None, 64, 128)      164352      bidirectional[0][0]              \n__________________________________________________________________________________________________\ninput_label (InputLayer)        [(None, 22)]         0                                            \n__________________________________________________________________________________________________\nDense_output (Dense)            (None, 64, 31)       3999        bidirectional_1[0][0]            \n__________________________________________________________________________________________________\ninput_length (InputLayer)       [(None, 1)]          0                                            \n__________________________________________________________________________________________________\nlabel_length (InputLayer)       [(None, 1)]          0                                            \n__________________________________________________________________________________________________\noutputs (CTCLayer)              (None, 1)            0           input_label[0][0]                \n                                                                 Dense_output[0][0]               \n                                                                 input_length[0][0]               \n                                                                 label_length[0][0]               \n==================================================================================================\nTotal params: 571,615\nTrainable params: 571,615\nNon-trainable params: 0\n__________________________________________________________________________________________________\n",
          "output_type": "stream"
        }
      ]
    },
    {
      "cell_type": "markdown",
      "source": [
        "## Model Training"
      ],
      "metadata": {
        "id": "KWRB2ez8Ev3s"
      }
    },
    {
      "cell_type": "code",
      "source": [
        "es = keras.callbacks.EarlyStopping(monitor='val_loss',\n",
        "                                   patience=5,\n",
        "                                   restore_best_weights=True)\n",
        "\n",
        "if 'prediction_model_ocr.h5' not in os.listdir('./'):\n",
        "    history = model.fit(train_generator,steps_per_epoch=1000,validation_data=validation_generator,\n",
        "                        epochs=6)\n"
      ],
      "metadata": {
        "execution": {
          "iopub.status.busy": "2023-12-26T11:12:38.060935Z",
          "iopub.execute_input": "2023-12-26T11:12:38.061255Z",
          "iopub.status.idle": "2023-12-26T12:18:48.278246Z",
          "shell.execute_reply.started": "2023-12-26T11:12:38.061227Z",
          "shell.execute_reply": "2023-12-26T12:18:48.277320Z"
        },
        "trusted": true,
        "id": "bxFm6c8BES_v",
        "outputId": "63f43a1f-7d6f-48e2-ef21-86fd8e07e143"
      },
      "execution_count": null,
      "outputs": [
        {
          "name": "stdout",
          "text": "Epoch 1/6\n1000/1000 [==============================] - 1435s 1s/step - loss: 23.9950 - val_loss: 18.9719\nEpoch 2/6\n1000/1000 [==============================] - 840s 840ms/step - loss: 18.5256 - val_loss: 16.3491\nEpoch 3/6\n1000/1000 [==============================] - 578s 578ms/step - loss: 15.5241 - val_loss: 9.9704\nEpoch 4/6\n1000/1000 [==============================] - 462s 462ms/step - loss: 9.9157 - val_loss: 5.5094\nEpoch 5/6\n1000/1000 [==============================] - 332s 332ms/step - loss: 6.3807 - val_loss: 4.0310\nEpoch 6/6\n1000/1000 [==============================] - 318s 318ms/step - loss: 4.8064 - val_loss: 3.0615\n",
          "output_type": "stream"
        }
      ]
    },
    {
      "cell_type": "code",
      "source": [
        "prediction_model = keras.models.Model(model.get_layer(name='input_data').input,\n",
        "                                        model.get_layer(name='Dense_output').output)\n",
        "prediction_model.summary()"
      ],
      "metadata": {
        "execution": {
          "iopub.status.busy": "2023-12-26T12:18:48.279957Z",
          "iopub.execute_input": "2023-12-26T12:18:48.280265Z",
          "iopub.status.idle": "2023-12-26T12:18:48.293741Z",
          "shell.execute_reply.started": "2023-12-26T12:18:48.280236Z",
          "shell.execute_reply": "2023-12-26T12:18:48.292709Z"
        },
        "trusted": true,
        "id": "7fYCx2MuES_w",
        "outputId": "8363fb7c-5b3b-4722-840d-fab90d1ccfbc"
      },
      "execution_count": null,
      "outputs": [
        {
          "name": "stdout",
          "text": "Model: \"model_1\"\n_________________________________________________________________\nLayer (type)                 Output Shape              Param #   \n=================================================================\ninput_data (InputLayer)      [(None, 256, 64, 1)]      0         \n_________________________________________________________________\nconv2d (Conv2D)              (None, 256, 64, 64)       640       \n_________________________________________________________________\nmax_pooling2d (MaxPooling2D) (None, 128, 32, 64)       0         \n_________________________________________________________________\ndropout (Dropout)            (None, 128, 32, 64)       0         \n_________________________________________________________________\nconv2d_1 (Conv2D)            (None, 128, 32, 128)      73856     \n_________________________________________________________________\nmax_pooling2d_1 (MaxPooling2 (None, 64, 16, 128)       0         \n_________________________________________________________________\ndropout_1 (Dropout)          (None, 64, 16, 128)       0         \n_________________________________________________________________\nreshape (Reshape)            (None, 64, 2048)          0         \n_________________________________________________________________\ndense (Dense)                (None, 64, 64)            131136    \n_________________________________________________________________\ndropout_2 (Dropout)          (None, 64, 64)            0         \n_________________________________________________________________\nbidirectional (Bidirectional (None, 64, 256)           197632    \n_________________________________________________________________\nbidirectional_1 (Bidirection (None, 64, 128)           164352    \n_________________________________________________________________\nDense_output (Dense)         (None, 64, 31)            3999      \n=================================================================\nTotal params: 571,615\nTrainable params: 571,615\nNon-trainable params: 0\n_________________________________________________________________\n",
          "output_type": "stream"
        }
      ]
    },
    {
      "cell_type": "code",
      "source": [
        "if 'prediction_model_ocr.h5' not in os.listdir('./'):\n",
        "    prediction_model.save('prediction_model_ocr.h5')\n",
        "    prediction_model=M.load_model('prediction_model_ocr.h5')"
      ],
      "metadata": {
        "execution": {
          "iopub.status.busy": "2023-12-26T12:18:48.295009Z",
          "iopub.execute_input": "2023-12-26T12:18:48.295378Z",
          "iopub.status.idle": "2023-12-26T12:18:49.314096Z",
          "shell.execute_reply.started": "2023-12-26T12:18:48.295347Z",
          "shell.execute_reply": "2023-12-26T12:18:49.313227Z"
        },
        "trusted": true,
        "id": "AyAsi6mtES_w"
      },
      "execution_count": null,
      "outputs": []
    },
    {
      "cell_type": "code",
      "source": [
        "label_to_char[100]=''"
      ],
      "metadata": {
        "execution": {
          "iopub.status.busy": "2023-12-26T12:18:49.315234Z",
          "iopub.execute_input": "2023-12-26T12:18:49.315531Z",
          "iopub.status.idle": "2023-12-26T12:18:49.319341Z",
          "shell.execute_reply.started": "2023-12-26T12:18:49.315500Z",
          "shell.execute_reply": "2023-12-26T12:18:49.318470Z"
        },
        "trusted": true,
        "id": "Z0M0Z6xsES_w"
      },
      "execution_count": null,
      "outputs": []
    },
    {
      "cell_type": "code",
      "source": [
        "\n",
        "def decode_batch_predictions(pred):\n",
        "    pred = pred[:, :-2]\n",
        "    input_len = np.ones(pred.shape[0])*pred.shape[1]\n",
        "\n",
        "\n",
        "    results = keras.backend.ctc_decode(pred,\n",
        "                                        input_length=input_len,\n",
        "                                        greedy=True)[0][0]\n",
        "\n",
        "    output_text = []\n",
        "    for res in results.numpy():\n",
        "        outstr = ''\n",
        "        for c in res:\n",
        "            if c < len(characters) and c >=0:\n",
        "                outstr += label_to_char[c]\n",
        "        output_text.append(outstr)\n",
        "\n",
        "    return output_text"
      ],
      "metadata": {
        "execution": {
          "iopub.status.busy": "2023-12-26T12:18:49.320469Z",
          "iopub.execute_input": "2023-12-26T12:18:49.320796Z",
          "iopub.status.idle": "2023-12-26T12:18:49.328743Z",
          "shell.execute_reply.started": "2023-12-26T12:18:49.320767Z",
          "shell.execute_reply": "2023-12-26T12:18:49.327887Z"
        },
        "trusted": true,
        "id": "DmlJlCyIES_w"
      },
      "execution_count": null,
      "outputs": []
    },
    {
      "cell_type": "code",
      "source": [
        "for p, (inp_value, _) in enumerate(validation_generator):\n",
        "    bs = inp_value['input_data'].shape[0]\n",
        "    X_data = inp_value['input_data']\n",
        "    labels = inp_value['input_label']\n",
        "    plt.imshow(X_data[0])\n",
        "    preds = prediction_model.predict(X_data)\n",
        "    pred_texts = decode_batch_predictions(preds)\n",
        "\n",
        "\n",
        "    orig_texts = []\n",
        "    for label in labels:\n",
        "        text = ''.join([label_to_char[int(x)] for x in label])\n",
        "        orig_texts.append(text)\n",
        "\n",
        "    for i in range(bs):\n",
        "        print(f'Ground truth: {orig_texts[i]} \\t Predicted: {pred_texts[i]}')\n",
        "    break"
      ],
      "metadata": {
        "execution": {
          "iopub.status.busy": "2023-12-26T12:18:49.330365Z",
          "iopub.execute_input": "2023-12-26T12:18:49.330744Z",
          "iopub.status.idle": "2023-12-26T12:18:52.130918Z",
          "shell.execute_reply.started": "2023-12-26T12:18:49.330705Z",
          "shell.execute_reply": "2023-12-26T12:18:52.130154Z"
        },
        "trusted": true,
        "id": "jYmBvWTWES_x",
        "outputId": "9dd0f072-0ae2-44fc-9cb0-0848205bde17"
      },
      "execution_count": null,
      "outputs": [
        {
          "name": "stdout",
          "text": "Ground truth: BENOIT \t Predicted: BENOIT\nGround truth: ANGELINE \t Predicted: ANGELINE\nGround truth: LEELOU \t Predicted: LEELOU\nGround truth: VERDELET \t Predicted: VERDELET\nGround truth: MAZVA \t Predicted: MAEVA\nGround truth: JENNA \t Predicted: JENNA\nGround truth: SAIDA \t Predicted: SAIDA\nGround truth: YASSINE \t Predicted: YASSINE\nGround truth: ALICE \t Predicted: ALICE\nGround truth: ABASSA \t Predicted: ABASIA\nGround truth: BOSIO \t Predicted: ROSIO\nGround truth: SHARKAWI \t Predicted: SHARAI\nGround truth: DRUOD \t Predicted: BRUOR\nGround truth: JOHANNA \t Predicted: JOHANNA\nGround truth: ALICIA \t Predicted: ALICIA\nGround truth: FLORIAN \t Predicted: FLORIAN\nGround truth: LEPROUX \t Predicted: LEPROUX\nGround truth: CLEMENT \t Predicted: CLEMENT\nGround truth: GALONNET \t Predicted: GACONNET\nGround truth: BAMMEZ \t Predicted: BAMMEZ\nGround truth: ISMAEL \t Predicted: FSMAEL\nGround truth: ANDRES \t Predicted: ANDRES\nGround truth: ORHAN \t Predicted: BRHAN\nGround truth: LILA \t Predicted: LILA\nGround truth: LUNTALA \t Predicted: LUNTALA\nGround truth: FERAGO \t Predicted: FARAGD\nGround truth: PAGANI \t Predicted: DAGANI\nGround truth: LUCAS \t Predicted: LUCAS\nGround truth: MAXIMILIAN \t Predicted: MAXIMILIAN\nGround truth: LISA \t Predicted: LISA\nGround truth: HUNDILU \t Predicted: HUNDILU\nGround truth: LEULLIETTE \t Predicted: LEULLIETTE\nGround truth: PARADOWSKI \t Predicted: PARADONSRI\nGround truth: FRANCHI \t Predicted: FRANCHZ\nGround truth: SAINTMARS \t Predicted: SAINTHARS\nGround truth: GERVAIS \t Predicted: GERVAIS\nGround truth: LISA \t Predicted: ELSA\nGround truth: ERDNA \t Predicted: ERDNA\nGround truth: REGGAM \t Predicted: RESGAH\nGround truth: CLIPET \t Predicted: CLIBET\nGround truth: SORIN \t Predicted: GORIN\nGround truth: ETHAN \t Predicted: ETHAN\nGround truth: FAHFOUHI \t Predicted: FAAFOUMI\nGround truth: LOUIS \t Predicted: LOUIS\nGround truth: VERDIER \t Predicted: VEROIER\nGround truth: LEVY-DAUCHEZ \t Predicted: LEVY-DAUCHEZ\nGround truth: DUSSAULE \t Predicted: DUSSAULE\nGround truth: JADE \t Predicted: SADE\nGround truth: GABOREAU \t Predicted: GABOGEAU\nGround truth: JULIEN \t Predicted: JULIEN\nGround truth: LOPES \t Predicted: LOBES\nGround truth: ELSA \t Predicted: ELSA\nGround truth: ELLIOT \t Predicted: ELLIOT\nGround truth: MATHYS \t Predicted: MATHIS\nGround truth: CORDANI \t Predicted: CORDANI\nGround truth: KELYAN \t Predicted: RLYAN\nGround truth: NICOLAS \t Predicted: NICOLAS\nGround truth: JOREAN \t Predicted: MASA\nGround truth: LANA \t Predicted: LANA\nGround truth: ASWINN \t Predicted: ROUINN\nGround truth: CORENTAN \t Predicted: CORENTAN\nGround truth: CHLOE \t Predicted: CHLLE\nGround truth: KYLIAN \t Predicted: EILIAN\nGround truth: LORIANE \t Predicted: LORIANE\nGround truth: LE QUERE \t Predicted: LE QUERE\nGround truth: PEDANOU \t Predicted: PEDANOU\nGround truth: STEPHAN \t Predicted: STEHAN\nGround truth: DUPLAND \t Predicted: SAMO\nGround truth: KERJOUAN \t Predicted: KERSOUAN\nGround truth: HANON \t Predicted: MANON\nGround truth: GRAMONT \t Predicted: GRANONT\nGround truth: JOUBERT \t Predicted: JOUBERT\nGround truth: RATAUO \t Predicted: RATAUS\nGround truth: MATHWEO \t Predicted: MATHEO\nGround truth: VALEZ BEAUPORT \t Predicted: VELEIZ-BEAUFORT\nGround truth: AEGO \t Predicted: REGO\nGround truth: LEA \t Predicted: LEA\nGround truth: PAUL \t Predicted: TOUL\nGround truth: CUNHA \t Predicted: CUMAS\nGround truth: PRUNE \t Predicted: PRUNE\nGround truth: NAUEAU \t Predicted: NAUEAU\nGround truth: TEIXEIRA \t Predicted: TEISEIRA\nGround truth: NACIM \t Predicted: MACIM\nGround truth: LOEVANN \t Predicted: LOEVAUN\nGround truth: LISSARDY \t Predicted: CISSARDU\nGround truth: NATHAN \t Predicted: NATHAN\nGround truth: LASNIER \t Predicted: LASNIER\nGround truth: CHLOE \t Predicted: CHLOE\nGround truth: CLAVEL \t Predicted: ELPIES\nGround truth: CLAUDIE \t Predicted: CLAUDIE\nGround truth: ALLICIO \t Predicted: ALLICIO\nGround truth: GEIGER \t Predicted: GEIGER\nGround truth: ANNE \t Predicted: ANNE\nGround truth: MATTEO \t Predicted: MATTS\nGround truth: SONNT \t Predicted: SONNT\nGround truth: PIERRE \t Predicted: DIEHAE\nGround truth: HERVO \t Predicted: MERVO\nGround truth: TARTU \t Predicted: TARTU\nGround truth: CLEMENT \t Predicted: CLEMENT\nGround truth: DJODY \t Predicted: DIDDY\nGround truth: COUDOUX \t Predicted: COUDOUX\nGround truth: RAMDANI \t Predicted: RAMDANI\nGround truth: BENJAMIN \t Predicted: BENSAMIN\nGround truth: DEXHEIMER \t Predicted: DEXMEIMER\nGround truth: EDOUARD \t Predicted: EOOUARD\nGround truth: GUILLET \t Predicted: GUILLET\nGround truth: LOANE \t Predicted: LOANE\nGround truth: LUCILE \t Predicted: LUCILE\nGround truth: PINCAU \t Predicted: PINCAU\nGround truth: ALEXIS \t Predicted: ALEXIS\nGround truth: MATTHIEU \t Predicted: MATTHIEU\nGround truth: SUBRA \t Predicted: SUBRA\nGround truth: HOCHART \t Predicted: MOCHART\nGround truth: FONTAINE \t Predicted: FONTAINE\nGround truth: LUDMILA \t Predicted: LUONMILA\nGround truth: CAPUCINE \t Predicted: CAPUCINE\nGround truth: DORIAN \t Predicted: DORIAN\nGround truth: CHAUVEAU \t Predicted: CHAUVEAU\nGround truth: HONA \t Predicted: MAMA\nGround truth: LOS \t Predicted: LOS\nGround truth: LECARDOWWEL \t Predicted: LECARBONVEL\nGround truth: GHISKIER \t Predicted: GHISRIER\nGround truth: LASNIER \t Predicted: LASHIER\nGround truth: HELOISE \t Predicted: MELOISE\nGround truth: MATHIS \t Predicted: MATHIS\nGround truth: TEDDY \t Predicted: TEDDY\nGround truth: CAMILLE \t Predicted: CAMILLE\nGround truth: TOMMY \t Predicted: TOMAS\n",
          "output_type": "stream"
        },
        {
          "output_type": "display_data",
          "data": {
            "text/plain": "<Figure size 432x288 with 1 Axes>",
            "image/png": "[encoded data removed]"
          },
          "metadata": {
            "needs_background": "light"
          }
        }
      ]
    },
    {
      "cell_type": "code",
      "source": [
        "batch_images=np.ones((128,256,64,1),dtype=np.float32)\n",
        "img=cv2.imread('../input/handwriting-recognition/test_v2/test/TEST_0004.jpg')\n",
        "img=cv2.cvtColor(img, cv2.COLOR_BGR2GRAY)\n",
        "img=cv2.resize(img,(256,64))\n",
        "img=(img/255).astype(np.float32)\n",
        "img=img.T\n",
        "img=np.expand_dims(img,axis=-1)\n",
        "batch_images[0]=img\n",
        "x=prediction_model.predict(batch_images)\n",
        "pred_texts = decode_batch_predictions(x)\n",
        "pred_texts = pred_texts[0]\n",
        "im=cv2.imread('../input/handwriting-recognition/test_v2/test/TEST_0004.jpg')\n",
        "plt.imshow(im)\n",
        "print('Predicted Text:',pred_texts)"
      ],
      "metadata": {
        "execution": {
          "iopub.status.busy": "2023-12-26T12:18:52.132034Z",
          "iopub.execute_input": "2023-12-26T12:18:52.132299Z",
          "iopub.status.idle": "2023-12-26T12:18:52.383254Z",
          "shell.execute_reply.started": "2023-12-26T12:18:52.132273Z",
          "shell.execute_reply": "2023-12-26T12:18:52.382403Z"
        },
        "trusted": true,
        "id": "XdBh430LES_x",
        "outputId": "6c9ff39d-7ae9-4af9-f14a-1314bc5ccdc3"
      },
      "execution_count": null,
      "outputs": [
        {
          "name": "stdout",
          "text": "Predicted Text: JULES\n",
          "output_type": "stream"
        },
        {
          "output_type": "display_data",
          "data": {
            "text/plain": "<Figure size 432x288 with 1 Axes>",
            "image/png": "[encoded data removed]"
          },
          "metadata": {
            "needs_background": "light"
          }
        }
      ]
    }
  ]
}